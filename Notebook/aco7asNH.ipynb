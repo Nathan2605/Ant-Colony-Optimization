{
  "nbformat": 4,
  "nbformat_minor": 0,
  "metadata": {
    "colab": {
      "provenance": [],
      "collapsed_sections": [
        "wDi12hpeHoQg"
      ],
      "authorship_tag": "ABX9TyM1DKfC1O/LfdLSZ1Zh51Jt",
      "include_colab_link": true
    },
    "kernelspec": {
      "name": "python3",
      "display_name": "Python 3"
    },
    "language_info": {
      "name": "python"
    }
  },
  "cells": [
    {
      "cell_type": "markdown",
      "metadata": {
        "id": "view-in-github",
        "colab_type": "text"
      },
      "source": [
        "<a href=\"https://colab.research.google.com/github/Nathan2605/Ant-Colony-Optimization-ACO-/blob/main/aco7asNH.ipynb\" target=\"_parent\"><img src=\"https://colab.research.google.com/assets/colab-badge.svg\" alt=\"Open In Colab\"/></a>"
      ]
    },
    {
      "cell_type": "code",
      "source": [
        "import pandas as pd\n",
        "import numpy as np\n",
        "import matplotlib.pyplot as plt"
      ],
      "metadata": {
        "id": "w_jwlurToSUr"
      },
      "execution_count": null,
      "outputs": []
    },
    {
      "cell_type": "code",
      "source": [
        "# ----------------------------------------\n",
        "# FUNCIONES DE INICIALIZACIÓN Y PREPARACIÓN\n",
        "# ----------------------------------------\n",
        "\n",
        "# Lee la instancia de ciudades en formato diccionario y devuelve un array NumPy\n",
        "def read_instance(data):\n",
        "    return np.array(list(data.values()))\n",
        "\n",
        "\n",
        "# Calcula las distancias entre todas las ciudades utilizando la distancia euclidiana\n",
        "def compute_distances(cities):\n",
        "    n = len(cities)\n",
        "    distance = np.zeros((n, n))\n",
        "    for i in range(n):\n",
        "        for j in range(n):\n",
        "            x1, y1 = cities[i]\n",
        "            x2, y2 = cities[j]\n",
        "            distance[i][j] = np.sqrt((x2 - x1)**2 + (y2 - y1)**2)\n",
        "    return distance\n",
        "\n",
        "\n",
        "# Inicializa la matriz de feromonas con un valor inicial\n",
        "def initialize_pheromone(cities, initial_value):\n",
        "    n = len(cities)\n",
        "    return np.full((n, n), initial_value)\n",
        "\n",
        "\n",
        "# Inicializa un conjunto de hormigas, cada una con un Tour, Ciudades visitadas, y Longitud del tour (nuestro fitness)\n",
        "def initialize_ants(num_ants, cities):\n",
        "    n = len(cities)\n",
        "    ants = []\n",
        "\n",
        "    for _ in range(num_ants):\n",
        "        ant = {\n",
        "            'tour': np.full(n + 1, -1),  # Tamano del tour +1 considerando regresando a origen, -1: paso no realizado\n",
        "            'visited': np.zeros(n),      # Ciudades visitadas\n",
        "            'tour_length': 0             # Longitud del tour\n",
        "        }\n",
        "        ants.append(ant)\n",
        "\n",
        "    return ants"
      ],
      "metadata": {
        "id": "_zLRooVnoW8Q"
      },
      "execution_count": null,
      "outputs": []
    },
    {
      "cell_type": "code",
      "source": [
        "# ----------------------------------------\n",
        "# FUNCIONES PRINCIPALES DEL ALGORITMO ACO\n",
        "# ----------------------------------------\n",
        "\n",
        "\n",
        "# Calcula las probabilidades de transición entre ciudades basadas en las distancias y feromonas\n",
        "def compute_proba(distance, pheromone, alpha, beta):\n",
        "    n = len(distance)\n",
        "    choice = np.zeros((n, n))\n",
        "\n",
        "    # Calcular el choice: numerador del cálculo de probabilidades (pheromone^alpha * heuristic^beta)\n",
        "    for i in range(n):\n",
        "        for j in range(n):\n",
        "            if distance[i][j] != 0:  # Evitar divisiones por cero\n",
        "                heuristic = 1 / distance[i][j]\n",
        "                choice[i][j] = (pheromone[i][j]**alpha) * (heuristic**beta)\n",
        "\n",
        "    # Calcular las probabilidades de transición para cada ciudad\n",
        "    proba = np.zeros((n, n))\n",
        "    for i in range(n):\n",
        "        for j in range(n):\n",
        "            proba[j][i] = choice[i][j] / sum(choice[:,i]) #invertir j con i para ir por columnas\n",
        "\n",
        "    return proba\n",
        "\n",
        "\n",
        "# Encuentra la ciudad actual de una hormiga basada en su recorrido\n",
        "def compute_current_city(ant):\n",
        "    i = 0\n",
        "    while ant['tour'][i] != -1 and i < len(ant['tour']) - 1:\n",
        "        i += 1\n",
        "        current_city = ant['tour'][i-1]\n",
        "    return int(current_city)\n",
        "\n",
        "\n",
        "# Regla de decisión para seleccionar la siguiente ciudad utilizando la ruleta\n",
        "def as_decision_rule(ant, proba):\n",
        "    current_city = compute_current_city(ant)\n",
        "\n",
        "    # Probabilidades de ciudades no visitadas\n",
        "    proba_current_city = proba[:, current_city] * (1 - ant['visited']) #Eliminar prob. de ciudades visitadas\n",
        "    proba_current_city_acum = np.cumsum(proba_current_city)  # Probabilidades acumulativas\n",
        "\n",
        "    # Selección usando ruleta\n",
        "    r = np.random.uniform(0, max(proba_current_city_acum)) #estandiracion de p en base a max, usamos el max porque el acumulado ya no da 1, y uniforme para poner max un float\n",
        "    i = 0\n",
        "    while r > proba_current_city_acum[i]:\n",
        "        i = i+1\n",
        "    next_city = i\n",
        "    return next_city\n",
        "\n",
        "\n",
        "# Actualiza la ciudad visitada por la hormiga\n",
        "def visit_city(ant, city):\n",
        "    #marcar ciudad como visitada en 'visited'\n",
        "    ant['visited'][city] = 1\n",
        "\n",
        "    #agreagar visita de la ciudad en 'tour'\n",
        "    i = 0\n",
        "    while ant['tour'][i] != -1 and i < len(ant['tour']) - 1:\n",
        "        i += 1\n",
        "    ant['tour'][i] = city\n",
        "    return ant\n",
        "\n",
        "\n",
        "# Completa el recorrido de una hormiga y calcula la longitud total del tour\n",
        "def complete_tour(ant):\n",
        "    if all(ant['visited'] == 1):\n",
        "        ant['tour'][-1] = ant['tour'][0]  # Volver a la ciudad inicial\n",
        "\n",
        "    #calcular fitness (tour_lenght)\n",
        "        acum = 0\n",
        "        for i in range(1, len(ant['tour'])):\n",
        "            acum = acum + distance[ant['tour'][i]][ant['tour'][i-1]]\n",
        "        ant['tour_length'] = acum\n",
        "    return ant\n",
        "\n",
        "\n",
        "# Construye la solución para un conjunto de hormigas\n",
        "def construct_solucion(num_ants, cities):\n",
        "\n",
        "  start_cities = np.random.choice(len(cities), num_ants)  #ciudades iniciales\n",
        "  ants = []\n",
        "\n",
        "  for i in range(num_ants):\n",
        "    ant = initialize_ants(1, cities)[0]  #inicializa una hormiga\n",
        "    ant = visit_city(ant, start_cities[i])  #asignar ciudad inicial\n",
        "\n",
        "    for step in range(1, len(cities)):\n",
        "      next_city = as_decision_rule(ant, proba)\n",
        "      ant = visit_city(ant, next_city)\n",
        "\n",
        "    ant = complete_tour(ant)\n",
        "    ants.append(ant)\n",
        "  return ants"
      ],
      "metadata": {
        "id": "zqMI-dFfoW6A"
      },
      "execution_count": null,
      "outputs": []
    },
    {
      "cell_type": "code",
      "source": [
        "# ----------------------------------------\n",
        "# FUNCIONES PARA ACTUALIZAR FEROMONAS\n",
        "# ----------------------------------------\n",
        "\n",
        "# Evapora las feromonas en cada iteración\n",
        "def evaporate_pheromone(pheromone, evaporation_rate):\n",
        "    return pheromone * (1 - evaporation_rate)\n",
        "\n",
        "\n",
        "# Calcula el valor de depósito de feromonas basado en la longitud del tour\n",
        "def pheromone_deposit_value(ant):\n",
        "    return 1 / ant['tour_length']\n",
        "\n",
        "\n",
        "# Actualiza las feromonas depositadas por las hormigas\n",
        "def deposit_pheromone(pheromone, ants):\n",
        "    for ant in ants:\n",
        "        for i in range(len(ant['tour']) - 1):\n",
        "            city_from = ant['tour'][i]\n",
        "            city_to = ant['tour'][i + 1]\n",
        "            pheromone[city_from][city_to] = pheromone[city_from][city_to] + pheromone_deposit_value(ant)\n",
        "            pheromone[city_to][city_from] = pheromone[city_from][city_to]  #simetría\n",
        "    return pheromone"
      ],
      "metadata": {
        "id": "GDp2ibhIoW31"
      },
      "execution_count": null,
      "outputs": []
    },
    {
      "cell_type": "code",
      "source": [
        "# ----------------------------------------\n",
        "# FUNCIONES PARA EVALUAR LAS SOLUCIONES\n",
        "# ----------------------------------------\n",
        "\n",
        "# Encuentra la mejor hormiga en función de la longitud del tour\n",
        "def find_best_ant(ants_total):\n",
        "    best_ant = None\n",
        "    best_tour_length = 10**(20)\n",
        "\n",
        "    for ants in ants_total:\n",
        "        for ant in ants:\n",
        "            if ant['tour_length'] < best_tour_length:\n",
        "                best_tour_length = ant['tour_length']\n",
        "                best_ant = ant\n",
        "\n",
        "    return best_ant\n",
        "\n",
        "def find_best_ant_iteration(ants):\n",
        "    best_ant = None\n",
        "    best_tour_length = 10**(20)\n",
        "\n",
        "    for ant in ants:\n",
        "        if ant['tour_length'] < best_tour_length:\n",
        "            best_tour_length = ant['tour_length']\n",
        "            best_ant = ant\n",
        "\n",
        "    return best_ant\n",
        "\n",
        "# Devuelve grafica del mejor tour\n",
        "def plot_best_tour(mejor_hormiga, cities, cities_dict):\n",
        "    tour = mejor_hormiga['tour']\n",
        "    x_coords = [cities[city][0] for city in tour]\n",
        "    y_coords = [cities[city][1] for city in tour]\n",
        "    plt.plot(x_coords, y_coords, '-')\n",
        "\n",
        "    # Agregar nombres de ciudades\n",
        "    for city in tour:\n",
        "        city_name = list(cities_dict.keys())[city]\n",
        "        plt.text(cities[city][0], cities[city][1], city_name, ha='center', va='center', fontsize=8)\n",
        "\n",
        "    plt.title(f'Mejor hormiga: {mejor_hormiga[\"tour_length\"]}')\n",
        "    plt.show()"
      ],
      "metadata": {
        "id": "JneN4PkOr5te"
      },
      "execution_count": null,
      "outputs": []
    },
    {
      "cell_type": "markdown",
      "source": [
        "#### principal\n"
      ],
      "metadata": {
        "id": "_KCV-eqxJoxo"
      }
    },
    {
      "cell_type": "code",
      "execution_count": null,
      "metadata": {
        "colab": {
          "base_uri": "https://localhost:8080/",
          "height": 506
        },
        "id": "Lr2YyDzxmy-M",
        "outputId": "46232fcb-4cc7-4227-ec1b-095297db1120"
      },
      "outputs": [
        {
          "output_type": "stream",
          "name": "stdout",
          "text": [
            "f Mejor hormiga: {'tour': array([ 2, 12, 11,  3, 13, 20,  9, 17, 15, 22, 21,  4,  6, 14,  8, 23,  5,\n",
            "       24, 19,  0,  1, 16, 10,  7, 18,  2]), 'visited': array([1., 1., 1., 1., 1., 1., 1., 1., 1., 1., 1., 1., 1., 1., 1., 1., 1.,\n",
            "       1., 1., 1., 1., 1., 1., 1., 1.]), 'tour_length': 55.79804462981559}\n"
          ]
        },
        {
          "output_type": "display_data",
          "data": {
            "text/plain": [
              "<Figure size 640x480 with 1 Axes>"
            ],
            "image/png": "[encoded data removed]"
          },
          "metadata": {}
        }
      ],
      "source": [
        "# ----------------------------------------\n",
        "# PROGRAMA PRINCIPAL\n",
        "# ----------------------------------------\n",
        "\n",
        "# Cargar los datos de las ciudades\n",
        "URL = \"https://raw.githubusercontent.com/it-ces/GA-OPTA-PUJ/main/cities.csv\"\n",
        "data = pd.read_csv(URL)\n",
        "data = data[data['capital'] == 'admin'].sample(25, random_state=4).reset_index(drop=True)\n",
        "cities_dict = {data.loc[i, 'city']: [data.loc[i, 'lat'], data.loc[i, 'lng']] for i in data.index}\n",
        "cities = read_instance(cities_dict)\n",
        "\n",
        "# Parámetros del algoritmo ACO\n",
        "alpha = 1\n",
        "beta = 3\n",
        "initial_pheromone = 10**(-100)\n",
        "num_ants = 30\n",
        "evaporation_rate = 0.5\n",
        "iterations = 100\n",
        "\n",
        "# Inicialización\n",
        "distance = compute_distances(cities)\n",
        "pheromone = initialize_pheromone(cities, initial_pheromone)\n",
        "proba = compute_proba(distance, pheromone, alpha, beta)\n",
        "ants = initialize_ants(num_ants,cities)\n",
        "ants_total = []\n",
        "\n",
        "# Iteraciones del ACO\n",
        "for _ in range(iterations):\n",
        "    ants = construct_solucion(num_ants, cities)\n",
        "    pheromone = evaporate_pheromone(pheromone, evaporation_rate)\n",
        "    pheromone = deposit_pheromone(pheromone, ants)\n",
        "    proba = compute_proba(distance, pheromone, alpha, beta)\n",
        "    #print(f'iteracion {_}: {ants}')\n",
        "    ants_total.append(ants)\n",
        "\n",
        "    mejor_hormiga_iteration = find_best_ant_iteration(ants)\n",
        "    #print(f\"Mejor hormiga iteracion {_}: {mejor_hormiga_iteration}, Longitud del tour: {mejor_hormiga_iteration['tour_length']}\")\n",
        "\n",
        "# Encontrar la mejor hormiga\n",
        "mejor_hormiga = find_best_ant(ants_total)\n",
        "print(f\"f Mejor hormiga: {mejor_hormiga}\")\n",
        "\n",
        "#Graficar la ruta de la mejor hormiga\n",
        "plot_best_tour(mejor_hormiga, cities, cities_dict)"
      ]
    },
    {
      "cell_type": "code",
      "source": [
        "best_tour_lengths = []\n",
        "for ants in ants_total:\n",
        "    best_ant = find_best_ant_iteration(ants)\n",
        "    best_tour_lengths.append(best_ant['tour_length'])\n",
        "\n",
        "plt.plot(best_tour_lengths)\n",
        "plt.xlabel('Iteración')\n",
        "plt.ylabel('Longitud del tour')\n",
        "plt.title('Longitud del tour de las mejores hormigas en cada iteración')\n",
        "plt.show()"
      ],
      "metadata": {
        "colab": {
          "base_uri": "https://localhost:8080/",
          "height": 472
        },
        "id": "D3jNfjc5sxoE",
        "outputId": "0f5ed4d1-19fd-4017-e8d3-02d7afc4b724"
      },
      "execution_count": null,
      "outputs": [
        {
          "output_type": "display_data",
          "data": {
            "text/plain": [
              "<Figure size 640x480 with 1 Axes>"
            ],
            "image/png": "[encoded data removed]"
          },
          "metadata": {}
        }
      ]
    },
    {
      "cell_type": "markdown",
      "source": [
        "\n",
        "\n",
        "---\n",
        "\n"
      ],
      "metadata": {
        "id": "SPbX38LieSXH"
      }
    },
    {
      "cell_type": "markdown",
      "source": [
        "#### PASEO POR EL ALGORITMO"
      ],
      "metadata": {
        "id": "wDi12hpeHoQg"
      }
    },
    {
      "cell_type": "code",
      "source": [
        "data2 = {'cityA':(10,20),\n",
        "        'cityB':(30,25),\n",
        "        'cityC':(13,33),\n",
        "        'cityD':(21,12),\n",
        "        'cityE':(20,25),}\n",
        "        #'cityF':(23,32),}"
      ],
      "metadata": {
        "id": "d4lw-fS8HnZG"
      },
      "execution_count": null,
      "outputs": []
    },
    {
      "cell_type": "code",
      "source": [
        "#leemos nuestras ciudades\n",
        "cities2 = read_instance(data2)"
      ],
      "metadata": {
        "id": "98miRTCaI8dL"
      },
      "execution_count": null,
      "outputs": []
    },
    {
      "cell_type": "code",
      "source": [
        "#graficar\n",
        "x = cities2[:, 0]\n",
        "y = cities2[:, 1]\n",
        "plt.plot(x, y, 'o',markersize=30)\n",
        "#numerotacion\n",
        "for i in range(len(x)):\n",
        "    plt.text(x[i], y[i], str(i), ha='center', va='center')"
      ],
      "metadata": {
        "colab": {
          "base_uri": "https://localhost:8080/",
          "height": 430
        },
        "id": "cdamP1efH1or",
        "outputId": "d60d365d-9824-4926-b8c2-be5d9476ea46"
      },
      "execution_count": null,
      "outputs": [
        {
          "output_type": "display_data",
          "data": {
            "text/plain": [
              "<Figure size 640x480 with 1 Axes>"
            ],
            "image/png": "[encoded data removed]"
          },
          "metadata": {}
        }
      ]
    },
    {
      "cell_type": "code",
      "source": [
        "#calculamos la matriz de distancias entre las ciudades\n",
        "distance2 = compute_distances(cities2)\n",
        "print(distance2)"
      ],
      "metadata": {
        "colab": {
          "base_uri": "https://localhost:8080/"
        },
        "id": "_0Lg3TulJ5I6",
        "outputId": "5c6558ca-27ce-4d18-a002-d8176cf15f31"
      },
      "execution_count": null,
      "outputs": [
        {
          "output_type": "stream",
          "name": "stdout",
          "text": [
            "[[ 0.         20.61552813 13.34166406 13.60147051 11.18033989]\n",
            " [20.61552813  0.         18.78829423 15.8113883  10.        ]\n",
            " [13.34166406 18.78829423  0.         22.47220505 10.63014581]\n",
            " [13.60147051 15.8113883  22.47220505  0.         13.03840481]\n",
            " [11.18033989 10.         10.63014581 13.03840481  0.        ]]\n"
          ]
        }
      ]
    },
    {
      "cell_type": "code",
      "source": [
        "#creamos una matriz, sera nuestra matriz de feromonas, un valor para cada link, inicialiamos un t0\n",
        "t0 = 0.001\n",
        "pheromone2 = initialize_pheromone(cities2, t0)\n",
        "print(pheromone2)"
      ],
      "metadata": {
        "colab": {
          "base_uri": "https://localhost:8080/"
        },
        "id": "HxjWhwZ6I071",
        "outputId": "165e62ad-2bdc-40fa-f301-3a3f42bdb91e"
      },
      "execution_count": null,
      "outputs": [
        {
          "output_type": "stream",
          "name": "stdout",
          "text": [
            "[[0.001 0.001 0.001 0.001 0.001]\n",
            " [0.001 0.001 0.001 0.001 0.001]\n",
            " [0.001 0.001 0.001 0.001 0.001]\n",
            " [0.001 0.001 0.001 0.001 0.001]\n",
            " [0.001 0.001 0.001 0.001 0.001]]\n"
          ]
        }
      ]
    },
    {
      "cell_type": "markdown",
      "source": [
        "\n",
        "\n",
        "---\n",
        "\n"
      ],
      "metadata": {
        "id": "nUbi42CeLIo2"
      }
    },
    {
      "cell_type": "markdown",
      "source": [
        "\n",
        "$$P_{ij}^k(t) = \\frac{[\\tau_{ij}(t)]^\\alpha [\\eta_{ij}]^\\beta}{\\sum_{l \\in N_i^k} [\\tau_{il}(t)]^\\alpha [\\eta_{il}]^\\beta}$$\n",
        "\n",
        "Donde:\n",
        "\n",
        "*   $P_{ij}^k(t)$ es la probabilidad de que la hormiga $k$ se mueva de la ciudad $i$ a la ciudad $j$ en el tiempo $t$.\n",
        "*   $\\tau_{ij}(t)$ es la cantidad de feromona en el camino entre las ciudades $i$ y $j$ en el tiempo $t$.\n",
        "*   $\\eta_{ij}$ es la visibilidad del camino entre las ciudades $i$ y $j$, que suele ser la inversa de la distancia entre las ciudades.\n",
        "*   $\\alpha$ y $\\beta$ son parámetros que controlan la influencia relativa de la feromona y la visibilidad.\n",
        "*   $N_i^k$ es el conjunto de ciudades vecinas a la ciudad $i$ que la hormiga $k$ aún no ha visitado."
      ],
      "metadata": {
        "id": "ps9WQA0xK9T0"
      }
    },
    {
      "cell_type": "code",
      "source": [
        "#calculamos nuestras probabilidades inciales\n",
        "alpha = 1\n",
        "beta = 3\n",
        "proba = compute_proba(distance2, pheromone2, alpha, beta)\n",
        "print(proba)"
      ],
      "metadata": {
        "colab": {
          "base_uri": "https://localhost:8080/"
        },
        "id": "XUvwoTCRI1oy",
        "outputId": "ccd21fb0-323a-4a33-be88-370c8e1748f2"
      },
      "execution_count": null,
      "outputs": [
        {
          "output_type": "stream",
          "name": "stdout",
          "text": [
            "[[0.         0.07519258 0.28213846 0.33405367 0.23857802]\n",
            " [0.06924898 0.         0.10102532 0.21264923 0.33342292]\n",
            " [0.25548579 0.09933363 0.         0.07406905 0.27757336]\n",
            " [0.24112329 0.16666652 0.05904121 0.         0.15042571]\n",
            " [0.43414194 0.65880727 0.55779501 0.37922805 0.        ]]\n"
          ]
        }
      ]
    },
    {
      "cell_type": "markdown",
      "source": [
        "\n",
        "\n",
        "---\n",
        "\n",
        "ITERACION 0:"
      ],
      "metadata": {
        "id": "LY0xRt7CPNSR"
      }
    },
    {
      "cell_type": "code",
      "source": [
        "#creamos 3 hormigas para hacer un test\n",
        "num_ants_test = 3\n",
        "ants_test = initialize_ants(num_ants_test,cities2)\n",
        "ants_test"
      ],
      "metadata": {
        "colab": {
          "base_uri": "https://localhost:8080/"
        },
        "id": "Je528U1UI1l1",
        "outputId": "c3e3a519-e0a7-4a97-e042-7a20b5d0c0df"
      },
      "execution_count": null,
      "outputs": [
        {
          "output_type": "execute_result",
          "data": {
            "text/plain": [
              "[{'tour': array([-1, -1, -1, -1, -1, -1]),\n",
              "  'visited': array([0., 0., 0., 0., 0.]),\n",
              "  'tour_length': 0},\n",
              " {'tour': array([-1, -1, -1, -1, -1, -1]),\n",
              "  'visited': array([0., 0., 0., 0., 0.]),\n",
              "  'tour_length': 0},\n",
              " {'tour': array([-1, -1, -1, -1, -1, -1]),\n",
              "  'visited': array([0., 0., 0., 0., 0.]),\n",
              "  'tour_length': 0}]"
            ]
          },
          "metadata": {},
          "execution_count": 44
        }
      ]
    },
    {
      "cell_type": "code",
      "source": [
        "#generamos unas ciudades de inicio aleatorias\n",
        "start_cities2 = np.random.choice(len(cities2), num_ants_test)\n",
        "start_cities2"
      ],
      "metadata": {
        "colab": {
          "base_uri": "https://localhost:8080/"
        },
        "id": "aQYR7W1VML84",
        "outputId": "6797877e-8724-4a64-dfc5-d2a1a3c441bd"
      },
      "execution_count": null,
      "outputs": [
        {
          "output_type": "execute_result",
          "data": {
            "text/plain": [
              "array([4, 2, 1])"
            ]
          },
          "metadata": {},
          "execution_count": 46
        }
      ]
    },
    {
      "cell_type": "code",
      "source": [
        "#Le asignamos a cada hormiga su ciudad de incio aleatoriamente y las mandamos alla\n",
        "for i in range(num_ants_test):\n",
        "    print(start_cities2[i])\n",
        "    ants_test[i] = visit_city(ants_test[i], start_cities2[i])  #asignar ciudad inicial\n",
        "    print(ants_test[i])"
      ],
      "metadata": {
        "colab": {
          "base_uri": "https://localhost:8080/"
        },
        "id": "I8VmJ3hbMq7S",
        "outputId": "5dbd7375-dca7-4b0a-ecbc-13f4d09b70bf"
      },
      "execution_count": null,
      "outputs": [
        {
          "output_type": "stream",
          "name": "stdout",
          "text": [
            "4\n",
            "{'tour': array([ 4, -1, -1, -1, -1, -1]), 'visited': array([0., 0., 0., 0., 1.]), 'tour_length': 0}\n",
            "2\n",
            "{'tour': array([ 2, -1, -1, -1, -1, -1]), 'visited': array([0., 0., 1., 0., 0.]), 'tour_length': 0}\n",
            "1\n",
            "{'tour': array([ 1, -1, -1, -1, -1, -1]), 'visited': array([0., 1., 0., 0., 0.]), 'tour_length': 0}\n"
          ]
        }
      ]
    },
    {
      "cell_type": "code",
      "source": [
        "#las hormigas hacen su recorrido\n",
        "for step in range(1, len(cities2)):\n",
        "  for i in range(num_ants_test):\n",
        "\n",
        "      print(f'\\nSTEP {step}')\n",
        "      print(f'HORMIGA {i}')\n",
        "      next_city = as_decision_rule(ants_test[i], proba) #se determina con una roulette la siguiente ciudad a visitar\n",
        "\n",
        "      print(next_city)\n",
        "      ant = visit_city(ants_test[i], next_city) #las movemos a esta ciudad\n",
        "      print(ants_test[i])"
      ],
      "metadata": {
        "colab": {
          "base_uri": "https://localhost:8080/"
        },
        "collapsed": true,
        "id": "11EvnrxJMq4Q",
        "outputId": "69a5e6e1-5016-4e00-ac2d-3c23afad58b4"
      },
      "execution_count": null,
      "outputs": [
        {
          "output_type": "stream",
          "name": "stdout",
          "text": [
            "\n",
            "STEP 1\n",
            "HORMIGA 0\n",
            "1\n",
            "{'tour': array([ 4,  1, -1, -1, -1, -1]), 'visited': array([0., 1., 0., 0., 1.]), 'tour_length': 0}\n",
            "\n",
            "STEP 1\n",
            "HORMIGA 1\n",
            "4\n",
            "{'tour': array([ 2,  4, -1, -1, -1, -1]), 'visited': array([0., 0., 1., 0., 1.]), 'tour_length': 0}\n",
            "\n",
            "STEP 1\n",
            "HORMIGA 2\n",
            "3\n",
            "{'tour': array([ 1,  3, -1, -1, -1, -1]), 'visited': array([0., 1., 0., 1., 0.]), 'tour_length': 0}\n",
            "\n",
            "STEP 2\n",
            "HORMIGA 0\n",
            "3\n",
            "{'tour': array([ 4,  1,  3, -1, -1, -1]), 'visited': array([0., 1., 0., 1., 1.]), 'tour_length': 0}\n",
            "\n",
            "STEP 2\n",
            "HORMIGA 1\n",
            "3\n",
            "{'tour': array([ 2,  4,  3, -1, -1, -1]), 'visited': array([0., 0., 1., 1., 1.]), 'tour_length': 0}\n",
            "\n",
            "STEP 2\n",
            "HORMIGA 2\n",
            "4\n",
            "{'tour': array([ 1,  3,  4, -1, -1, -1]), 'visited': array([0., 1., 0., 1., 1.]), 'tour_length': 0}\n",
            "\n",
            "STEP 3\n",
            "HORMIGA 0\n",
            "2\n",
            "{'tour': array([ 4,  1,  3,  2, -1, -1]), 'visited': array([0., 1., 1., 1., 1.]), 'tour_length': 0}\n",
            "\n",
            "STEP 3\n",
            "HORMIGA 1\n",
            "0\n",
            "{'tour': array([ 2,  4,  3,  0, -1, -1]), 'visited': array([1., 0., 1., 1., 1.]), 'tour_length': 0}\n",
            "\n",
            "STEP 3\n",
            "HORMIGA 2\n",
            "2\n",
            "{'tour': array([ 1,  3,  4,  2, -1, -1]), 'visited': array([0., 1., 1., 1., 1.]), 'tour_length': 0}\n",
            "\n",
            "STEP 4\n",
            "HORMIGA 0\n",
            "0\n",
            "{'tour': array([ 4,  1,  3,  2,  0, -1]), 'visited': array([1., 1., 1., 1., 1.]), 'tour_length': 0}\n",
            "\n",
            "STEP 4\n",
            "HORMIGA 1\n",
            "1\n",
            "{'tour': array([ 2,  4,  3,  0,  1, -1]), 'visited': array([1., 1., 1., 1., 1.]), 'tour_length': 0}\n",
            "\n",
            "STEP 4\n",
            "HORMIGA 2\n",
            "0\n",
            "{'tour': array([ 1,  3,  4,  2,  0, -1]), 'visited': array([1., 1., 1., 1., 1.]), 'tour_length': 0}\n"
          ]
        }
      ]
    },
    {
      "cell_type": "code",
      "source": [
        "#acompletamos el recorrido regresando a ciudad origen y calculamos nuestro fitness\n",
        "for i in range(num_ants_test):\n",
        "  ants_test[i] = complete_tour(ants_test[i])\n",
        "ants_test"
      ],
      "metadata": {
        "colab": {
          "base_uri": "https://localhost:8080/"
        },
        "id": "_KG5BquoMq1k",
        "outputId": "ff571be7-c7d9-4cf9-b791-fc42f88ce023"
      },
      "execution_count": null,
      "outputs": [
        {
          "output_type": "execute_result",
          "data": {
            "text/plain": [
              "[{'tour': array([4, 1, 3, 2, 0, 4]),\n",
              "  'visited': array([1., 1., 1., 1., 1.]),\n",
              "  'tour_length': 23.7894405177184},\n",
              " {'tour': array([2, 4, 3, 0, 1, 2]),\n",
              "  'visited': array([1., 1., 1., 1., 1.]),\n",
              "  'tour_length': 26.25748068066099},\n",
              " {'tour': array([1, 3, 4, 2, 0, 1]),\n",
              "  'visited': array([1., 1., 1., 1., 1.]),\n",
              "  'tour_length': 26.16249127796289}]"
            ]
          },
          "metadata": {},
          "execution_count": 49
        }
      ]
    },
    {
      "cell_type": "code",
      "source": [
        "#guardamos nuestros recorridos\n",
        "ants_total_test = []\n",
        "ants_total_test.append(ants_test)\n",
        "ants_total_test"
      ],
      "metadata": {
        "colab": {
          "base_uri": "https://localhost:8080/"
        },
        "id": "yRXzPRolZN9Z",
        "outputId": "08e6dc2f-7bca-4921-f92a-18c6c9d37a46"
      },
      "execution_count": null,
      "outputs": [
        {
          "output_type": "execute_result",
          "data": {
            "text/plain": [
              "[[{'tour': array([4, 1, 3, 2, 0, 4]),\n",
              "   'visited': array([1., 1., 1., 1., 1.]),\n",
              "   'tour_length': 23.7894405177184},\n",
              "  {'tour': array([2, 4, 3, 0, 1, 2]),\n",
              "   'visited': array([1., 1., 1., 1., 1.]),\n",
              "   'tour_length': 26.25748068066099},\n",
              "  {'tour': array([1, 3, 4, 2, 0, 1]),\n",
              "   'visited': array([1., 1., 1., 1., 1.]),\n",
              "   'tour_length': 26.16249127796289}]]"
            ]
          },
          "metadata": {},
          "execution_count": 50
        }
      ]
    },
    {
      "cell_type": "markdown",
      "source": [
        "\n",
        "\n",
        "---\n",
        "\n"
      ],
      "metadata": {
        "id": "XGjmccApUpjU"
      }
    },
    {
      "cell_type": "markdown",
      "source": [
        "Feromonas: $$\n",
        "\\tau_{ij}(t+1) = (1 - \\rho) \\cdot \\tau_{ij}(t) + \\sum_{k=1}^{m} \\Delta \\tau_{ij}^k(t)\n",
        "$$\n",
        "\n",
        "Donde:\n",
        "\n",
        "*   $\\tau_{ij}(t)$ es la cantidad de feromona en el camino entre las ciudades  $i$  y  $j$  en el tiempo  $t$.\n",
        "*   $\\rho$  es la tasa de evaporación de la feromona.\n",
        "*   $\\Delta \\tau_{ij}^k(t) = 1 / C_{k}$ la cantidad de feromona depositada por la hormiga $k$  en el camino entre las ciudades  $i$  y  $j$  en el tiempo  $t$.\n",
        "* $C_{k}$ es la longitud del tour recorrido por hormiga $k$.\n",
        "*   $m$  es el número de hormigas."
      ],
      "metadata": {
        "id": "UF9-UaMOWA_H"
      }
    },
    {
      "cell_type": "code",
      "source": [
        "pheromone2"
      ],
      "metadata": {
        "colab": {
          "base_uri": "https://localhost:8080/"
        },
        "id": "NUFvgy_yVgt6",
        "outputId": "3675bfd7-a46e-4c2a-9495-245269c51ec2"
      },
      "execution_count": null,
      "outputs": [
        {
          "output_type": "execute_result",
          "data": {
            "text/plain": [
              "array([[0.001, 0.001, 0.001, 0.001, 0.001],\n",
              "       [0.001, 0.001, 0.001, 0.001, 0.001],\n",
              "       [0.001, 0.001, 0.001, 0.001, 0.001],\n",
              "       [0.001, 0.001, 0.001, 0.001, 0.001],\n",
              "       [0.001, 0.001, 0.001, 0.001, 0.001]])"
            ]
          },
          "metadata": {},
          "execution_count": 51
        }
      ]
    },
    {
      "cell_type": "code",
      "source": [
        "#evaporar los feromonas, para evitar estancamiento y quedar un no optimo rapido\n",
        "evaporation_rate = 0.5\n",
        "pheromone2 = evaporate_pheromone(pheromone2, evaporation_rate)"
      ],
      "metadata": {
        "id": "fKUV2cRIVNsI"
      },
      "execution_count": null,
      "outputs": []
    },
    {
      "cell_type": "code",
      "source": [
        "#reforzamos las rutas visitadas segun su fitness\n",
        "pheromone2 = deposit_pheromone(pheromone2, ants_test)"
      ],
      "metadata": {
        "id": "dYDVulw5VNpf"
      },
      "execution_count": null,
      "outputs": []
    },
    {
      "cell_type": "code",
      "source": [
        "pheromone2"
      ],
      "metadata": {
        "colab": {
          "base_uri": "https://localhost:8080/"
        },
        "id": "mA4h52DCVNm2",
        "outputId": "28955248-ef56-4dc8-cb2a-25ec1cd614cc"
      },
      "execution_count": null,
      "outputs": [
        {
          "output_type": "execute_result",
          "data": {
            "text/plain": [
              "array([[0.0005    , 0.07680704, 0.08075812, 0.03858438, 0.04253546],\n",
              "       [0.07680704, 0.0005    , 0.03858438, 0.08075812, 0.04253546],\n",
              "       [0.08075812, 0.03858438, 0.0005    , 0.04253546, 0.07680704],\n",
              "       [0.03858438, 0.08075812, 0.04253546, 0.0005    , 0.07680704],\n",
              "       [0.04253546, 0.04253546, 0.07680704, 0.07680704, 0.0005    ]])"
            ]
          },
          "metadata": {},
          "execution_count": 54
        }
      ]
    },
    {
      "cell_type": "code",
      "source": [
        "#con las nuevas feromonas actualizamos las probabilidades\n",
        "print('PROBABILIDADES ITERACION 0')\n",
        "print(proba)\n",
        "proba = compute_proba(distance2, pheromone2, alpha, beta)\n",
        "print('\\nPROBABILIDADES ITERACION 1')\n",
        "print(proba)"
      ],
      "metadata": {
        "colab": {
          "base_uri": "https://localhost:8080/"
        },
        "id": "UATkjqRXXng5",
        "outputId": "b04c5a75-89a3-451f-8396-e56f0f126184"
      },
      "execution_count": null,
      "outputs": [
        {
          "output_type": "stream",
          "name": "stdout",
          "text": [
            "PROBABILIDADES ITERACION 0\n",
            "[[0.         0.07519258 0.28213846 0.33405367 0.23857802]\n",
            " [0.06924898 0.         0.10102532 0.21264923 0.33342292]\n",
            " [0.25548579 0.09933363 0.         0.07406905 0.27757336]\n",
            " [0.24112329 0.16666652 0.05904121 0.         0.15042571]\n",
            " [0.43414194 0.65880727 0.55779501 0.37922805 0.        ]]\n",
            "\n",
            "PROBABILIDADES ITERACION 1\n",
            "[[0.         0.11304122 0.31629582 0.20675621 0.17740166]\n",
            " [0.09900731 0.         0.05411115 0.27547408 0.24792636]\n",
            " [0.38406592 0.07501855 0.         0.05053807 0.37269622]\n",
            " [0.17318233 0.26344826 0.03486192 0.         0.20197577]\n",
            " [0.34374444 0.54849197 0.59473111 0.46723164 0.        ]]\n"
          ]
        }
      ]
    },
    {
      "cell_type": "markdown",
      "source": [
        "\n",
        "\n",
        "---\n",
        "\n",
        "ITERACION 1:"
      ],
      "metadata": {
        "id": "S3C_vgsQY8s4"
      }
    },
    {
      "cell_type": "code",
      "source": [
        "#reinicializamos las 3 hormigas para hacer un test\n",
        "num_ants_test = 3\n",
        "ants_test = initialize_ants(num_ants_test,cities2)\n",
        "ants_test"
      ],
      "metadata": {
        "colab": {
          "base_uri": "https://localhost:8080/"
        },
        "id": "1VBa2pMbYyG3",
        "outputId": "3d330189-3eea-4a0c-e775-f11e7922b8bf"
      },
      "execution_count": null,
      "outputs": [
        {
          "output_type": "execute_result",
          "data": {
            "text/plain": [
              "[{'tour': array([-1, -1, -1, -1, -1, -1]),\n",
              "  'visited': array([0., 0., 0., 0., 0.]),\n",
              "  'tour_length': 0},\n",
              " {'tour': array([-1, -1, -1, -1, -1, -1]),\n",
              "  'visited': array([0., 0., 0., 0., 0.]),\n",
              "  'tour_length': 0},\n",
              " {'tour': array([-1, -1, -1, -1, -1, -1]),\n",
              "  'visited': array([0., 0., 0., 0., 0.]),\n",
              "  'tour_length': 0}]"
            ]
          },
          "metadata": {},
          "execution_count": 56
        }
      ]
    },
    {
      "cell_type": "code",
      "source": [
        "#generamos de nuevo unas ciudades de inicio aleatorias\n",
        "start_cities2 = np.random.choice(len(cities2), num_ants_test)\n",
        "start_cities2"
      ],
      "metadata": {
        "colab": {
          "base_uri": "https://localhost:8080/"
        },
        "id": "xJxaYTnpZE3A",
        "outputId": "1857f143-8a47-4bd6-e31d-c7680698df33"
      },
      "execution_count": null,
      "outputs": [
        {
          "output_type": "execute_result",
          "data": {
            "text/plain": [
              "array([2, 4, 1])"
            ]
          },
          "metadata": {},
          "execution_count": 57
        }
      ]
    },
    {
      "cell_type": "code",
      "source": [
        "#Le asignamos a cada hormiga su ciudad de incio aleatoriamente y las mandamos alla\n",
        "for i in range(num_ants_test):\n",
        "    print(start_cities2[i])\n",
        "    ants_test[i] = visit_city(ants_test[i], start_cities2[i])  #asignar ciudad inicial\n",
        "    print(ants_test[i])"
      ],
      "metadata": {
        "colab": {
          "base_uri": "https://localhost:8080/"
        },
        "id": "lWQNI-vVVNjg",
        "outputId": "3b1bc982-7612-48b4-8b97-eb9b45e9532e"
      },
      "execution_count": null,
      "outputs": [
        {
          "output_type": "stream",
          "name": "stdout",
          "text": [
            "2\n",
            "{'tour': array([ 2, -1, -1, -1, -1, -1]), 'visited': array([0., 0., 1., 0., 0.]), 'tour_length': 0}\n",
            "4\n",
            "{'tour': array([ 4, -1, -1, -1, -1, -1]), 'visited': array([0., 0., 0., 0., 1.]), 'tour_length': 0}\n",
            "1\n",
            "{'tour': array([ 1, -1, -1, -1, -1, -1]), 'visited': array([0., 1., 0., 0., 0.]), 'tour_length': 0}\n"
          ]
        }
      ]
    },
    {
      "cell_type": "code",
      "source": [
        "#las hormigas hacen su recorrido\n",
        "for step in range(1, len(cities2)):\n",
        "  for i in range(num_ants_test):\n",
        "\n",
        "      print(f'\\nSTEP {step}')\n",
        "      print(f'HORMIGA {i}')\n",
        "      next_city = as_decision_rule(ants_test[i], proba) #se determina con una roulette la siguiente ciudad a visitar\n",
        "\n",
        "      print(next_city)\n",
        "      ant = visit_city(ants_test[i], next_city) #las movemos a esta ciudad\n",
        "      print(ants_test[i])"
      ],
      "metadata": {
        "colab": {
          "base_uri": "https://localhost:8080/"
        },
        "id": "kPPzBkUOVNgp",
        "outputId": "36e7f47c-4b58-4e29-9ecb-9432a8813388"
      },
      "execution_count": null,
      "outputs": [
        {
          "output_type": "stream",
          "name": "stdout",
          "text": [
            "\n",
            "STEP 1\n",
            "HORMIGA 0\n",
            "4\n",
            "{'tour': array([ 2,  4, -1, -1, -1, -1]), 'visited': array([0., 0., 1., 0., 1.]), 'tour_length': 0}\n",
            "\n",
            "STEP 1\n",
            "HORMIGA 1\n",
            "2\n",
            "{'tour': array([ 4,  2, -1, -1, -1, -1]), 'visited': array([0., 0., 1., 0., 1.]), 'tour_length': 0}\n",
            "\n",
            "STEP 1\n",
            "HORMIGA 2\n",
            "4\n",
            "{'tour': array([ 1,  4, -1, -1, -1, -1]), 'visited': array([0., 1., 0., 0., 1.]), 'tour_length': 0}\n",
            "\n",
            "STEP 2\n",
            "HORMIGA 0\n",
            "3\n",
            "{'tour': array([ 2,  4,  3, -1, -1, -1]), 'visited': array([0., 0., 1., 1., 1.]), 'tour_length': 0}\n",
            "\n",
            "STEP 2\n",
            "HORMIGA 1\n",
            "0\n",
            "{'tour': array([ 4,  2,  0, -1, -1, -1]), 'visited': array([1., 0., 1., 0., 1.]), 'tour_length': 0}\n",
            "\n",
            "STEP 2\n",
            "HORMIGA 2\n",
            "2\n",
            "{'tour': array([ 1,  4,  2, -1, -1, -1]), 'visited': array([0., 1., 1., 0., 1.]), 'tour_length': 0}\n",
            "\n",
            "STEP 3\n",
            "HORMIGA 0\n",
            "0\n",
            "{'tour': array([ 2,  4,  3,  0, -1, -1]), 'visited': array([1., 0., 1., 1., 1.]), 'tour_length': 0}\n",
            "\n",
            "STEP 3\n",
            "HORMIGA 1\n",
            "3\n",
            "{'tour': array([ 4,  2,  0,  3, -1, -1]), 'visited': array([1., 0., 1., 1., 1.]), 'tour_length': 0}\n",
            "\n",
            "STEP 3\n",
            "HORMIGA 2\n",
            "0\n",
            "{'tour': array([ 1,  4,  2,  0, -1, -1]), 'visited': array([1., 1., 1., 0., 1.]), 'tour_length': 0}\n",
            "\n",
            "STEP 4\n",
            "HORMIGA 0\n",
            "1\n",
            "{'tour': array([ 2,  4,  3,  0,  1, -1]), 'visited': array([1., 1., 1., 1., 1.]), 'tour_length': 0}\n",
            "\n",
            "STEP 4\n",
            "HORMIGA 1\n",
            "1\n",
            "{'tour': array([ 4,  2,  0,  3,  1, -1]), 'visited': array([1., 1., 1., 1., 1.]), 'tour_length': 0}\n",
            "\n",
            "STEP 4\n",
            "HORMIGA 2\n",
            "3\n",
            "{'tour': array([ 1,  4,  2,  0,  3, -1]), 'visited': array([1., 1., 1., 1., 1.]), 'tour_length': 0}\n"
          ]
        }
      ]
    },
    {
      "cell_type": "code",
      "source": [
        "#acompletamos el recorrido regresando a ciudad origen y calculamos nuestro fitness\n",
        "for i in range(num_ants_test):\n",
        "  ants_test[i] = complete_tour(ants_test[i])\n",
        "ants_test"
      ],
      "metadata": {
        "colab": {
          "base_uri": "https://localhost:8080/"
        },
        "id": "w1V31AjEXb57",
        "outputId": "cb1e930a-51df-468e-fc6a-beeebd598ede"
      },
      "execution_count": null,
      "outputs": [
        {
          "output_type": "execute_result",
          "data": {
            "text/plain": [
              "[{'tour': array([2, 4, 3, 0, 1, 2]),\n",
              "  'visited': array([1., 1., 1., 1., 1.]),\n",
              "  'tour_length': 26.25748068066099},\n",
              " {'tour': array([4, 2, 0, 3, 1, 4]),\n",
              "  'visited': array([1., 1., 1., 1., 1.]),\n",
              "  'tour_length': 29.829666457587656},\n",
              " {'tour': array([1, 4, 2, 0, 3, 1]),\n",
              "  'visited': array([1., 1., 1., 1., 1.]),\n",
              "  'tour_length': 29.829666457587653}]"
            ]
          },
          "metadata": {},
          "execution_count": 60
        }
      ]
    },
    {
      "cell_type": "code",
      "source": [
        "#guardamos nuestros recorridos\n",
        "ants_total_test.append(ants_test)\n",
        "ants_total_test"
      ],
      "metadata": {
        "colab": {
          "base_uri": "https://localhost:8080/"
        },
        "id": "p_JRNevCXb3m",
        "outputId": "b907bcbc-8001-42c5-ba99-ba71b23d668c"
      },
      "execution_count": null,
      "outputs": [
        {
          "output_type": "execute_result",
          "data": {
            "text/plain": [
              "[[{'tour': array([4, 1, 3, 2, 0, 4]),\n",
              "   'visited': array([1., 1., 1., 1., 1.]),\n",
              "   'tour_length': 23.7894405177184},\n",
              "  {'tour': array([2, 4, 3, 0, 1, 2]),\n",
              "   'visited': array([1., 1., 1., 1., 1.]),\n",
              "   'tour_length': 26.25748068066099},\n",
              "  {'tour': array([1, 3, 4, 2, 0, 1]),\n",
              "   'visited': array([1., 1., 1., 1., 1.]),\n",
              "   'tour_length': 26.16249127796289}],\n",
              " [{'tour': array([2, 4, 3, 0, 1, 2]),\n",
              "   'visited': array([1., 1., 1., 1., 1.]),\n",
              "   'tour_length': 26.25748068066099},\n",
              "  {'tour': array([4, 2, 0, 3, 1, 4]),\n",
              "   'visited': array([1., 1., 1., 1., 1.]),\n",
              "   'tour_length': 29.829666457587656},\n",
              "  {'tour': array([1, 4, 2, 0, 3, 1]),\n",
              "   'visited': array([1., 1., 1., 1., 1.]),\n",
              "   'tour_length': 29.829666457587653}]]"
            ]
          },
          "metadata": {},
          "execution_count": 61
        }
      ]
    },
    {
      "cell_type": "code",
      "source": [
        "# Encontrar la mejor hormiga\n",
        "mejor_hormiga_test = find_best_ant(ants_total_test)\n",
        "print(f\"f Mejor hormiga: {mejor_hormiga_test}\")"
      ],
      "metadata": {
        "colab": {
          "base_uri": "https://localhost:8080/"
        },
        "id": "I1cLXfhMVNdT",
        "outputId": "dea9bd40-b29d-45af-d606-c9671c22d265"
      },
      "execution_count": null,
      "outputs": [
        {
          "output_type": "stream",
          "name": "stdout",
          "text": [
            "f Mejor hormiga: {'tour': array([4, 1, 3, 2, 0, 4]), 'visited': array([1., 1., 1., 1., 1.]), 'tour_length': 23.7894405177184}\n"
          ]
        }
      ]
    },
    {
      "cell_type": "code",
      "source": [
        "tour_test = mejor_hormiga_test['tour']\n",
        "# Get city names corresponding to city indices in tour_test\n",
        "city_names = [list(data2.keys())[i] for i in tour_test]\n",
        "x_coords_t = [data2[city][0] for city in city_names]\n",
        "y_coords_t = [data2[city][1] for city in city_names]\n",
        "\n",
        "plt.plot(x_coords_t, y_coords_t, '-')\n",
        "plt.title(f'Mejor hormiga: {mejor_hormiga_test[\"tour_length\"]}')\n",
        "for i, city in enumerate(city_names):\n",
        "    plt.annotate(city, (x_coords_t[i], y_coords_t[i]))\n",
        "plt.show()"
      ],
      "metadata": {
        "colab": {
          "base_uri": "https://localhost:8080/",
          "height": 452
        },
        "id": "jvsC-GEKaoxz",
        "outputId": "c8546535-4b8e-496c-a961-440f62b76aea"
      },
      "execution_count": null,
      "outputs": [
        {
          "output_type": "display_data",
          "data": {
            "text/plain": [
              "<Figure size 640x480 with 1 Axes>"
            ],
            "image/png": "[encoded data removed]"
          },
          "metadata": {}
        }
      ]
    },
    {
      "cell_type": "code",
      "source": [
        "#iterando un poco mas\n",
        "iterations2 = 100\n",
        "for _ in range(iterations2):\n",
        "    ants_test = construct_solucion(num_ants_test, cities2)\n",
        "    pheromone2 = evaporate_pheromone(pheromone2, evaporation_rate)\n",
        "    pheromone2 = deposit_pheromone(pheromone2, ants_test)\n",
        "    proba = compute_proba(distance2, pheromone2, alpha, beta)\n",
        "    #print(f'iteracion {_}: {ants}')\n",
        "    ants_total_test.append(ants_test)\n",
        "\n",
        "# Encontrar la mejor hormiga\n",
        "mejor_hormiga_test = find_best_ant(ants_total_test)\n",
        "print(f\"f Mejor hormiga: {mejor_hormiga_test}\")"
      ],
      "metadata": {
        "colab": {
          "base_uri": "https://localhost:8080/"
        },
        "id": "hGMy6M4CcJah",
        "outputId": "6dde5342-224f-4c53-ce6d-8b02336cf271"
      },
      "execution_count": null,
      "outputs": [
        {
          "output_type": "stream",
          "name": "stdout",
          "text": [
            "f Mejor hormiga: {'tour': array([2, 0, 1, 4, 3, 2]), 'visited': array([1., 1., 1., 1., 1.]), 'tour_length': 20.61592598141604}\n"
          ]
        }
      ]
    },
    {
      "cell_type": "code",
      "source": [
        "tour_test = mejor_hormiga_test['tour']\n",
        "# Get city names corresponding to city indices in tour_test\n",
        "city_names = [list(data2.keys())[i] for i in tour_test]\n",
        "x_coords_t = [data2[city][0] for city in city_names]\n",
        "y_coords_t = [data2[city][1] for city in city_names]\n",
        "\n",
        "plt.plot(x_coords_t, y_coords_t, '-')\n",
        "plt.title(f'Mejor hormiga: {mejor_hormiga_test[\"tour_length\"]}')\n",
        "for i, city in enumerate(city_names):\n",
        "    plt.annotate(city, (x_coords_t[i], y_coords_t[i]))\n",
        "plt.show()"
      ],
      "metadata": {
        "colab": {
          "base_uri": "https://localhost:8080/",
          "height": 452
        },
        "id": "y5e_5_r9cJYF",
        "outputId": "8494ac7e-4d57-4d8d-c7d2-78425c8d7cb8"
      },
      "execution_count": null,
      "outputs": [
        {
          "output_type": "display_data",
          "data": {
            "text/plain": [
              "<Figure size 640x480 with 1 Axes>"
            ],
            "image/png": "[encoded data removed]"
          },
          "metadata": {}
        }
      ]
    },
    {
      "cell_type": "code",
      "source": [],
      "metadata": {
        "id": "QI33QRWwcJVP"
      },
      "execution_count": null,
      "outputs": []
    },
    {
      "cell_type": "code",
      "source": [],
      "metadata": {
        "id": "yRZCLtJDcJSb"
      },
      "execution_count": null,
      "outputs": []
    }
  ]
}